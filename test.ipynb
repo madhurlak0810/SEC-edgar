{
 "cells": [
  {
   "cell_type": "code",
   "execution_count": null,
   "metadata": {},
   "outputs": [],
   "source": [
    "import requests\n",
    "from bs4 import BeautifulSoup\n",
    "import pandas as pd\n",
    "import json\n",
    "\n",
    "# Define the URL for the SEC EDGAR search page\n",
    "url = \"https://www.sec.gov/files/company_tickers_exchange.json\"\n",
    "\n",
    "headers = {\n",
    "   \"User-Agent\": \"your.email@email.com\"\n",
    "}\n",
    "# Fetch the HTML content of the search page\n",
    "response = requests.get(url,headers=headers)\n",
    "html_content = response.content\n",
    "\n",
    "# Parse the HTML content using BeautifulSoup\n",
    "soup = BeautifulSoup(html_content, 'html.parser')\n",
    "\n",
    "json_url = f\"https://data.sec.gov/api/xbrl/companyconcept/CIK0001652044/us-gaap/AccountsPayableCurrent.json\"\n",
    "json_response = requests.get(json_url,headers=headers)\n",
    "json_content = json_response.json()\n",
    "print(json_content)\n",
    "print(soup.prettify())"
   ]
  },
  {
   "cell_type": "code",
   "execution_count": null,
   "metadata": {},
   "outputs": [],
   "source": [
    "\n",
    "\n",
    "# Parse the JSON content from the BeautifulSoup object\n",
    "json_data = json.loads(soup.text)\n",
    "\n",
    "# Convert the JSON data into a pandas DataFrame\n",
    "df_cik_lookup = pd.DataFrame(json_data['data'], columns=json_data['fields'])\n",
    "\n",
    "\n",
    "# df_cik_lookup['cik']=df_cik_lookup['cik'].astype(str).zfill(10)\n",
    "df_cik_lookup"
   ]
  },
  {
   "cell_type": "code",
   "execution_count": null,
   "metadata": {},
   "outputs": [],
   "source": [
    "json_data_list = []\n",
    "\n",
    "# Define headers for the request\n",
    "headers = {\n",
    "    'User-Agent': 'Your Name (your_email@example.com)',\n",
    "    'Accept-Encoding': 'gzip, deflate',\n",
    "    'Host': 'data.sec.gov'\n",
    "}\n",
    "\n",
    "# Loop through the first 100 CIKs\n",
    "for i in range(100):\n",
    "    cik = df_cik_lookup['cik'][i]\n",
    "    cik=str(cik).zfill(10)\n",
    "    print(cik)\n",
    "    json_url = f\"https://data.sec.gov/api/xbrl/companyconcept/CIK{cik}/us-gaap/AccountsPayableCurrent.json\"\n",
    "    json_response = requests.get(json_url, headers=headers)\n",
    "    \n",
    "    # Check if the request was successful\n",
    "    if json_response.status_code == 200:\n",
    "        json_content = json_response.json()\n",
    "        json_data_list.append(json_content)\n",
    "    else:\n",
    "        print(f\"Failed to fetch data for CIK: {cik}\")\n",
    "\n",
    "# Convert the list of JSON content into a DataFrame\n",
    "df_json_content = pd.DataFrame(json_data_list)\n",
    "df_json_content.to_csv('data.csv', index=False)\n"
   ]
  },
  {
   "cell_type": "code",
   "execution_count": null,
   "metadata": {},
   "outputs": [],
   "source": [
    "df_json_content"
   ]
  },
  {
   "cell_type": "code",
   "execution_count": 5,
   "metadata": {},
   "outputs": [],
   "source": [
    "df_units=pd.json_normalize(df_json_content['units'])"
   ]
  },
  {
   "cell_type": "code",
   "execution_count": null,
   "metadata": {},
   "outputs": [],
   "source": [
    "df_units"
   ]
  },
  {
   "cell_type": "code",
   "execution_count": null,
   "metadata": {},
   "outputs": [],
   "source": [
    "# Define a function to extract the 'val' field from the JSON data\n",
    "def extract_val(json_data):\n",
    "    normalized_data = pd.json_normalize(json_data)\n",
    "    filtered_data = normalized_data[normalized_data['form'] == '10-K']\n",
    "    return filtered_data['val'].tolist()\n",
    "\n",
    "def extract_filled(json_data):\n",
    "    normalized_data = pd.json_normalize(json_data)\n",
    "    filtered_data = normalized_data[normalized_data['form'] == '10-K']\n",
    "    return filtered_data['end'].tolist()\n",
    "\n",
    "# Apply the function to the 'USD' column and create a new column 'value'\n",
    "df_json_content['value'] = df_units['USD'].apply(lambda x: extract_val(x) if isinstance(x, list) else [])\n",
    "df_json_content['dates_filed'] = df_units['USD'].apply(lambda x: extract_filled(x) if isinstance(x, list) else [])\n",
    "\n",
    "# Display the updated DataFrame\n",
    "df_json_content\n"
   ]
  },
  {
   "cell_type": "code",
   "execution_count": null,
   "metadata": {},
   "outputs": [],
   "source": [
    "\n",
    "import matplotlib.pyplot as plt\n",
    "\n",
    "# Plot graphs of value for the first 5 companies\n",
    "for i in range(5):\n",
    "    company_name = df_json_content['entityName'][i]\n",
    "    values = df_json_content['value'][i]\n",
    "    time = df_json_content['dates_filed'][i]\n",
    "    \n",
    "    plt.figure(figsize=(10, 5))\n",
    "    plt.plot(time, values, marker='o')\n",
    "    plt.title(f'Value Over Time for {company_name}')\n",
    "    plt.xlabel('Time')\n",
    "    plt.ylabel('Value')\n",
    "    plt.xticks(rotation=45)  # Rotate x-axis labels for better readability\n",
    "    plt.ylim(min(values) * 0.9, max(values) * 1.1)  # Set y-axis limits with some padding\n",
    "    plt.grid(True)\n",
    "    plt.show()"
   ]
  },
  {
   "cell_type": "code",
   "execution_count": null,
   "metadata": {},
   "outputs": [],
   "source": [
    "json_data_list = []\n",
    "\n",
    "# Define headers for the request\n",
    "headers = {\n",
    "    'User-Agent': 'Your Name (your_email@example.com)',\n",
    "    'Accept-Encoding': 'gzip, deflate',\n",
    "    'Host': 'data.sec.gov'\n",
    "}\n",
    "\n",
    "# Loop through the first 100 CIKs\n",
    "for i in range(100):\n",
    "    cik = df_cik_lookup['cik'][i]\n",
    "    cik=str(cik).zfill(10)\n",
    "    print(cik)\n",
    "    json_url = f\"https://data.sec.gov/api/xbrl/companyfacts/CIK{cik}.json\"\n",
    "    json_response = requests.get(json_url, headers=headers)\n",
    "    \n",
    "    # Check if the request was successful\n",
    "    if json_response.status_code == 200:\n",
    "        json_content = json_response.json()\n",
    "        json_data_list.append(json_content)\n",
    "    else:\n",
    "        print(f\"Failed to fetch data for CIK: {cik}\")\n",
    "\n",
    "# Convert the list of JSON content into a DataFrame\n",
    "df_json_companyfacts = pd.DataFrame(json_data_list)\n",
    "df_json_companyfacts.to_csv('data2.csv', index=False)"
   ]
  },
  {
   "cell_type": "code",
   "execution_count": null,
   "metadata": {},
   "outputs": [],
   "source": [
    "df_json_companyfacts"
   ]
  },
  {
   "cell_type": "code",
   "execution_count": 19,
   "metadata": {},
   "outputs": [],
   "source": [
    "df_facts=pd.json_normalize(df_json_companyfacts['facts'])"
   ]
  },
  {
   "cell_type": "code",
   "execution_count": null,
   "metadata": {},
   "outputs": [],
   "source": [
    "df_facts"
   ]
  },
  {
   "cell_type": "code",
   "execution_count": null,
   "metadata": {},
   "outputs": [],
   "source": [
    "df_facts.columns"
   ]
  },
  {
   "cell_type": "code",
   "execution_count": null,
   "metadata": {},
   "outputs": [],
   "source": [
    "url=\"https://data.sec.gov/submissions/CIK0000822663.json\"\n",
    "# Fetch the JSON content from the URL\n",
    "response = requests.get(url,headers=headers)\n",
    "json_content = response.json()\n",
    "\n",
    "# Convert JSON content to a string\n",
    "json_str = json.dumps(json_content)\n",
    "\n",
    "# Parse the string using BeautifulSoup\n",
    "soup = BeautifulSoup(json_str, 'html.parser')\n",
    "\n",
    "# Print the parsed content\n",
    "print(soup.prettify())\n"
   ]
  },
  {
   "cell_type": "code",
   "execution_count": null,
   "metadata": {},
   "outputs": [],
   "source": [
    "print(json_content.keys())"
   ]
  },
  {
   "cell_type": "code",
   "execution_count": null,
   "metadata": {},
   "outputs": [],
   "source": [
    "print(json_content['fiscalYearEnd'])"
   ]
  },
  {
   "cell_type": "code",
   "execution_count": null,
   "metadata": {},
   "outputs": [],
   "source": [
    "import mongodb as mdb\n",
    "\n",
    "mdb.get_mongodb_client()\n",
    "\n"
   ]
  },
  {
   "cell_type": "code",
   "execution_count": null,
   "metadata": {},
   "outputs": [],
   "source": [
    "mdb.download_cik_ticker_map()"
   ]
  },
  {
   "cell_type": "code",
   "execution_count": null,
   "metadata": {},
   "outputs": [],
   "source": [
    "tiker = \"GOOGL\"\n",
    "cik = mdb.cik_from_ticker(tiker)\n",
    "cik"
   ]
  },
  {
   "cell_type": "code",
   "execution_count": null,
   "metadata": {},
   "outputs": [],
   "source": [
    "mdb.download_submissions_documents(cik,\"10-K\",5)"
   ]
  },
  {
   "cell_type": "code",
   "execution_count": 4,
   "metadata": {},
   "outputs": [],
   "source": [
    "mdb.download_all_cik_submissions(cik)"
   ]
  },
  {
   "cell_type": "code",
   "execution_count": 5,
   "metadata": {},
   "outputs": [],
   "source": [
    "mdb.download_submissions_documents(cik,(\"10-k\"),5)"
   ]
  },
  {
   "cell_type": "code",
   "execution_count": 2,
   "metadata": {},
   "outputs": [],
   "source": [
    "import pandas as pd"
   ]
  },
  {
   "cell_type": "code",
   "execution_count": 3,
   "metadata": {},
   "outputs": [],
   "source": [
    "df=pd.read_excel(\"transposed_df_v2 (3).xlsx\")"
   ]
  },
  {
   "cell_type": "code",
   "execution_count": null,
   "metadata": {},
   "outputs": [],
   "source": [
    "df"
   ]
  },
  {
   "cell_type": "code",
   "execution_count": 4,
   "metadata": {},
   "outputs": [],
   "source": [
    "df['cik'] = df['cik'].apply(lambda x: mdb.add_trailing_to_cik(x))"
   ]
  },
  {
   "cell_type": "code",
   "execution_count": 6,
   "metadata": {},
   "outputs": [],
   "source": [
    "cik=df['cik'].iloc[0]"
   ]
  },
  {
   "cell_type": "code",
   "execution_count": null,
   "metadata": {},
   "outputs": [],
   "source": [
    "cik"
   ]
  },
  {
   "cell_type": "code",
   "execution_count": null,
   "metadata": {},
   "outputs": [],
   "source": [
    "for cik in df['cik']:\n",
    "    mdb.download_submissions_documents(cik,(\"10-K\"),5)"
   ]
  },
  {
   "cell_type": "code",
   "execution_count": null,
   "metadata": {},
   "outputs": [],
   "source": []
  },
  {
   "cell_type": "code",
   "execution_count": null,
   "metadata": {},
   "outputs": [],
   "source": [
    "mdb.download_submissions_documents()"
   ]
  },
  {
   "cell_type": "code",
   "execution_count": null,
   "metadata": {},
   "outputs": [],
   "source": [
    "cik"
   ]
  },
  {
   "cell_type": "code",
   "execution_count": null,
   "metadata": {},
   "outputs": [],
   "source": []
  },
  {
   "cell_type": "code",
   "execution_count": null,
   "metadata": {},
   "outputs": [],
   "source": [
    "filing_url = 'https://www.sec.gov/Archives/edgar/data/1652044/000165204423000016/goog-20221231.htm'\n",
    "doc = mdb.get_collection(\"submissions\").find({\"_id\":filing_url }).next()\n",
    "doc"
   ]
  },
  {
   "cell_type": "code",
   "execution_count": 18,
   "metadata": {},
   "outputs": [],
   "source": [
    "import requests\n",
    "\n",
    "url='https://www.sec.gov/Archives/edgar/data/1652044/000165204423000016/goog-20221231.htm'\n",
    "headers={\n",
    "    \"User-Agent\": \"your.email@email.com\"\n",
    "}\n",
    "response= requests.get(url,headers)\n",
    "r = response.text"
   ]
  },
  {
   "cell_type": "code",
   "execution_count": null,
   "metadata": {},
   "outputs": [],
   "source": [
    "import mongodb as mdb\n",
    "import datetime\n",
    "\n",
    "url='https://www.sec.gov/Archives/edgar/data/1652044/000165204423000016/goog-20221231.htm'\n",
    "mdb.download_document(url,cik,'10-K',None,None)"
   ]
  },
  {
   "cell_type": "code",
   "execution_count": 3,
   "metadata": {},
   "outputs": [],
   "source": [
    "r=response.text"
   ]
  },
  {
   "cell_type": "code",
   "execution_count": null,
   "metadata": {},
   "outputs": [],
   "source": [
    "r"
   ]
  },
  {
   "cell_type": "code",
   "execution_count": null,
   "metadata": {},
   "outputs": [],
   "source": [
    "response"
   ]
  },
  {
   "cell_type": "code",
   "execution_count": null,
   "metadata": {},
   "outputs": [],
   "source": [
    "import mongodb as mdb\n",
    "\n",
    "mdb.get_mongodb_client()"
   ]
  },
  {
   "cell_type": "code",
   "execution_count": null,
   "metadata": {},
   "outputs": [],
   "source": [
    "filing_url = 'https://www.sec.gov/Archives/edgar/data/1652044/000165204423000016/goog-20221231.htm'\n",
    "doc = mdb.get_collection(\"documents\").find({\"_id\":filing_url }).next()\n",
    "doc"
   ]
  },
  {
   "cell_type": "code",
   "execution_count": null,
   "metadata": {},
   "outputs": [],
   "source": [
    "r=mdb.make_edgar_request(filing_url)"
   ]
  },
  {
   "cell_type": "code",
   "execution_count": null,
   "metadata": {},
   "outputs": [],
   "source": [
    "r.text"
   ]
  },
  {
   "cell_type": "code",
   "execution_count": 1,
   "metadata": {},
   "outputs": [],
   "source": [
    "import mongodb as mdb\n",
    "import requests\n",
    "filing_url='https://www.sec.gov/Archives/edgar/data/1652044/000165204423000016/goog-20221231.htm'\n",
    "headers={\n",
    "    \"User-Agent\": \"radnom@ten.edu\",\n",
    "    \"Accept-Encoding\": \"gzip, deflate\"\n",
    "    }\n",
    "r=requests.get(filing_url,headers=headers)"
   ]
  },
  {
   "cell_type": "code",
   "execution_count": null,
   "metadata": {},
   "outputs": [],
   "source": [
    "import mongodb as mdb\n",
    "filing_url='https://www.sec.gov/Archives/edgar/data/1652044/000165204423000016/goog-20221231.htm'\n",
    "\n",
    "r=mdb.make_edgar_request(filing_url)"
   ]
  },
  {
   "cell_type": "code",
   "execution_count": null,
   "metadata": {},
   "outputs": [],
   "source": [
    "r.text"
   ]
  },
  {
   "cell_type": "code",
   "execution_count": null,
   "metadata": {},
   "outputs": [],
   "source": [
    "import mongodb as mdb\n",
    "ticker=\"GOOGL\"\n",
    "cik = mdb.cik_from_ticker(ticker)\n",
    "cik"
   ]
  },
  {
   "cell_type": "code",
   "execution_count": 3,
   "metadata": {},
   "outputs": [],
   "source": [
    "filing_url='https://www.sec.gov/Archives/edgar/data/1652044/000165204423000016/goog-20221231.htm'\n",
    "mdb.download_document(filing_url,cik,'10-K',None,None)"
   ]
  },
  {
   "cell_type": "code",
   "execution_count": null,
   "metadata": {},
   "outputs": [],
   "source": [
    "import mongodb as mdb\n",
    "\n",
    "mdb.get_mongodb_client()"
   ]
  },
  {
   "cell_type": "code",
   "execution_count": 1,
   "metadata": {},
   "outputs": [],
   "source": [
    "import pandas as pd\n",
    "import mongodb as mdb\n",
    "\n",
    "df=pd.read_excel(\"transposed_df_v2 (3).xlsx\")\n",
    "df['cik'] = df['cik'].apply(lambda x: mdb.add_trailing_to_cik(x))"
   ]
  },
  {
   "cell_type": "code",
   "execution_count": null,
   "metadata": {},
   "outputs": [],
   "source": [
    "for cik in df['cik'][:50]:\n",
    "    mdb.download_submissions_documents(cik, (\"10-K\"), 5)"
   ]
  },
  {
   "cell_type": "code",
   "execution_count": null,
   "metadata": {},
   "outputs": [],
   "source": [
    "import mongodb as mdb\n",
    "\n",
    "for doc in mdb.get_collection(\"documents\").find():\n",
    "    mdb.parse_document(doc)"
   ]
  },
  {
   "cell_type": "code",
   "execution_count": null,
   "metadata": {},
   "outputs": [],
   "source": [
    "import analyzer as an\n",
    "for parsed_doc in mdb.get_collection(\"parsed_documents\").find():\n",
    "    an.sections_summary(parsed_doc)"
   ]
  },
  {
   "cell_type": "code",
   "execution_count": 1,
   "metadata": {},
   "outputs": [],
   "source": [
    "import mongodb as mdb\n",
    "filing_url = 'https://www.sec.gov/Archives/edgar/data/1652044/000165204423000016/goog-20221231.htm'\n",
    "\n",
    "doc = mdb.get_collection(\"documents\").find({\"_id\":filing_url}).next()"
   ]
  },
  {
   "cell_type": "code",
   "execution_count": null,
   "metadata": {},
   "outputs": [],
   "source": [
    "mdb.parse_document(doc)"
   ]
  },
  {
   "cell_type": "code",
   "execution_count": 3,
   "metadata": {},
   "outputs": [],
   "source": [
    "parsed_doc = mdb.get_collection(\"parsed_documents\").find({\"_id\":filing_url}).next()"
   ]
  },
  {
   "cell_type": "code",
   "execution_count": 4,
   "metadata": {},
   "outputs": [],
   "source": [
    "import analyzer as an\n",
    "\n",
    "restructured_doc=an.restructure_parsed_10k(parsed_doc)"
   ]
  },
  {
   "cell_type": "code",
   "execution_count": null,
   "metadata": {},
   "outputs": [],
   "source": [
    "section_text = restructured_doc[\"business\"][\"text\"]\n",
    "section_text"
   ]
  },
  {
   "cell_type": "code",
   "execution_count": null,
   "metadata": {},
   "outputs": [],
   "source": [
    "len(section_text)"
   ]
  },
  {
   "cell_type": "code",
   "execution_count": null,
   "metadata": {},
   "outputs": [],
   "source": [
    "chain_type = \"refine\"\n",
    "model = \"gpt-4o-mini\"\n",
    "verbose = True\n",
    "\n",
    "# get summary from openAI model\n",
    "print(f\"business original_len: {len(section_text)} use {model} w/ chain {chain_type}\")\n",
    "summary, cost = an.summarize_section(section_text, model, chain_type, verbose)"
   ]
  },
  {
   "cell_type": "code",
   "execution_count": null,
   "metadata": {},
   "outputs": [],
   "source": [
    "print(f\"BULLET POINTS\")\n",
    "for el in summary:\n",
    "    print(el)\n",
    "print(f\"cost: {cost} in USD\")"
   ]
  },
  {
   "cell_type": "code",
   "execution_count": null,
   "metadata": {},
   "outputs": [],
   "source": [
    "an.sections_summary(parsed_doc)"
   ]
  },
  {
   "cell_type": "code",
   "execution_count": null,
   "metadata": {},
   "outputs": [],
   "source": [
    "import mongodb as mdb\n",
    "for cik in df['cik'][:50]:\n",
    "    mdb.download_submissions_documents(cik, (\"10-K\"), 5)"
   ]
  },
  {
   "cell_type": "code",
   "execution_count": null,
   "metadata": {},
   "outputs": [],
   "source": []
  }
 ],
 "metadata": {
  "kernelspec": {
   "display_name": ".venv",
   "language": "python",
   "name": "python3"
  },
  "language_info": {
   "codemirror_mode": {
    "name": "ipython",
    "version": 3
   },
   "file_extension": ".py",
   "mimetype": "text/x-python",
   "name": "python",
   "nbconvert_exporter": "python",
   "pygments_lexer": "ipython3",
   "version": "3.12.3"
  }
 },
 "nbformat": 4,
 "nbformat_minor": 2
}
