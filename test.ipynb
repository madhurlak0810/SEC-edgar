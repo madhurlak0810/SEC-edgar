{
 "cells": [
  {
   "cell_type": "code",
   "execution_count": 2,
   "metadata": {},
   "outputs": [
    {
     "name": "stdout",
     "output_type": "stream",
     "text": [
      "No JSON link found.\n"
     ]
    }
   ],
   "source": [
    "import requests\n",
    "from bs4 import BeautifulSoup\n",
    "\n",
    "# Define the URL for the SEC EDGAR search page\n",
    "url = \"https://www.sec.gov/files/company_tickers_exchange.json\"\n",
    "\n",
    "# Fetch the HTML content of the search page\n",
    "response = requests.get(url)\n",
    "html_content = response.content\n",
    "\n",
    "# Parse the HTML content using BeautifulSoup\n",
    "soup = BeautifulSoup(html_content, 'html.parser')\n",
    "\n",
    "# Find the link to the JSON file (this is an example, actual implementation may vary)\n",
    "json_link = None\n",
    "for link in soup.find_all('a'):\n",
    "    href = link.get('href')\n",
    "    if href and 'json' in href:\n",
    "        json_link = href\n",
    "        break\n",
    "\n",
    "# If a JSON link is found, fetch its content\n",
    "if json_link:\n",
    "    json_url = f\"https://data.sec.gov/api/xbrl/companyconcept/CIK0001652044/us-gaap/AccountsPayableCurrent.json\"\n",
    "    json_response = requests.get(json_url)\n",
    "    json_content = json_response.json()\n",
    "    print(json_content)\n",
    "else:\n",
    "    print(\"No JSON link found.\")"
   ]
  }
 ],
 "metadata": {
  "kernelspec": {
   "display_name": ".venv",
   "language": "python",
   "name": "python3"
  },
  "language_info": {
   "codemirror_mode": {
    "name": "ipython",
    "version": 3
   },
   "file_extension": ".py",
   "mimetype": "text/x-python",
   "name": "python",
   "nbconvert_exporter": "python",
   "pygments_lexer": "ipython3",
   "version": "3.12.3"
  }
 },
 "nbformat": 4,
 "nbformat_minor": 2
}
