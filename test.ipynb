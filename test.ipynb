{
  "cells": [
    {
      "cell_type": "code",
      "execution_count": null,
      "metadata": {
        "id": "6CeZo2_nxESf"
      },
      "outputs": [],
      "source": [
        "import requests\n",
        "from bs4 import BeautifulSoup\n",
        "import pandas as pd\n",
        "import json\n",
        "\n",
        "# Define the URL for the SEC EDGAR search page\n",
        "url = \"https://www.sec.gov/files/company_tickers_exchange.json\"\n",
        "\n",
        "headers = {\n",
        "   \"User-Agent\": \"your.email@email.com\"\n",
        "}\n",
        "# Fetch the HTML content of the search page\n",
        "response = requests.get(url,headers=headers)\n",
        "html_content = response.content\n",
        "\n",
        "# Parse the HTML content using BeautifulSoup\n",
        "soup = BeautifulSoup(html_content, 'html.parser')\n",
        "\n",
        "json_url = f\"https://data.sec.gov/api/xbrl/companyconcept/CIK0001652044/us-gaap/AccountsPayableCurrent.json\"\n",
        "json_response = requests.get(json_url,headers=headers)\n",
        "json_content = json_response.json()\n",
        "print(json_content)\n",
        "print(soup.prettify())"
      ]
    },
    {
      "cell_type": "code",
      "execution_count": null,
      "metadata": {
        "id": "SV48vygzxESf"
      },
      "outputs": [],
      "source": [
        "\n",
        "\n",
        "# Parse the JSON content from the BeautifulSoup object\n",
        "json_data = json.loads(soup.text)\n",
        "\n",
        "# Convert the JSON data into a pandas DataFrame\n",
        "df_cik_lookup = pd.DataFrame(json_data['data'], columns=json_data['fields'])\n",
        "\n",
        "\n",
        "# df_cik_lookup['cik']=df_cik_lookup['cik'].astype(str).zfill(10)\n",
        "df_cik_lookup"
      ]
    },
    {
      "cell_type": "code",
      "execution_count": null,
      "metadata": {
        "id": "uDvHre0mxESg"
      },
      "outputs": [],
      "source": [
        "json_data_list = []\n",
        "\n",
        "# Define headers for the request\n",
        "headers = {\n",
        "    'User-Agent': 'Your Name (your_email@example.com)',\n",
        "    'Accept-Encoding': 'gzip, deflate',\n",
        "    'Host': 'data.sec.gov'\n",
        "}\n",
        "\n",
        "# Loop through the first 100 CIKs\n",
        "for i in range(100):\n",
        "    cik = df_cik_lookup['cik'][i]\n",
        "    cik=str(cik).zfill(10)\n",
        "    print(cik)\n",
        "    json_url = f\"https://data.sec.gov/api/xbrl/companyconcept/CIK{cik}/us-gaap/AccountsPayableCurrent.json\"\n",
        "    json_response = requests.get(json_url, headers=headers)\n",
        "\n",
        "    # Check if the request was successful\n",
        "    if json_response.status_code == 200:\n",
        "        json_content = json_response.json()\n",
        "        json_data_list.append(json_content)\n",
        "    else:\n",
        "        print(f\"Failed to fetch data for CIK: {cik}\")\n",
        "\n",
        "# Convert the list of JSON content into a DataFrame\n",
        "df_json_content = pd.DataFrame(json_data_list)\n",
        "df_json_content.to_csv('data.csv', index=False)\n"
      ]
    },
    {
      "cell_type": "code",
      "execution_count": null,
      "metadata": {
        "id": "CIT3I4v8xESg"
      },
      "outputs": [],
      "source": [
        "df_json_content"
      ]
    },
    {
      "cell_type": "code",
      "execution_count": null,
      "metadata": {
        "id": "pNJqQ3C1xESg"
      },
      "outputs": [],
      "source": [
        "df_units=pd.json_normalize(df_json_content['units'])"
      ]
    },
    {
      "cell_type": "code",
      "execution_count": null,
      "metadata": {
        "id": "cbsi3cpJxESg"
      },
      "outputs": [],
      "source": [
        "df_units"
      ]
    },
    {
      "cell_type": "code",
      "execution_count": null,
      "metadata": {
        "id": "YKweOqg0xESg"
      },
      "outputs": [],
      "source": [
        "# Define a function to extract the 'val' field from the JSON data\n",
        "def extract_val(json_data):\n",
        "    normalized_data = pd.json_normalize(json_data)\n",
        "    filtered_data = normalized_data[normalized_data['form'] == '10-K']\n",
        "    return filtered_data['val'].tolist()\n",
        "\n",
        "def extract_filled(json_data):\n",
        "    normalized_data = pd.json_normalize(json_data)\n",
        "    filtered_data = normalized_data[normalized_data['form'] == '10-K']\n",
        "    return filtered_data['end'].tolist()\n",
        "\n",
        "# Apply the function to the 'USD' column and create a new column 'value'\n",
        "df_json_content['value'] = df_units['USD'].apply(lambda x: extract_val(x) if isinstance(x, list) else [])\n",
        "df_json_content['dates_filed'] = df_units['USD'].apply(lambda x: extract_filled(x) if isinstance(x, list) else [])\n",
        "\n",
        "# Display the updated DataFrame\n",
        "df_json_content\n"
      ]
    },
    {
      "cell_type": "code",
      "execution_count": null,
      "metadata": {
        "id": "FbWRYbq2xESg"
      },
      "outputs": [],
      "source": [
        "\n",
        "import matplotlib.pyplot as plt\n",
        "\n",
        "# Plot graphs of value for the first 5 companies\n",
        "for i in range(5):\n",
        "    company_name = df_json_content['entityName'][i]\n",
        "    values = df_json_content['value'][i]\n",
        "    time = df_json_content['dates_filed'][i]\n",
        "\n",
        "    plt.figure(figsize=(10, 5))\n",
        "    plt.plot(time, values, marker='o')\n",
        "    plt.title(f'Value Over Time for {company_name}')\n",
        "    plt.xlabel('Time')\n",
        "    plt.ylabel('Value')\n",
        "    plt.xticks(rotation=45)  # Rotate x-axis labels for better readability\n",
        "    plt.ylim(min(values) * 0.9, max(values) * 1.1)  # Set y-axis limits with some padding\n",
        "    plt.grid(True)\n",
        "    plt.show()"
      ]
    },
    {
      "cell_type": "code",
      "execution_count": null,
      "metadata": {
        "id": "sxmLuL-WxESh"
      },
      "outputs": [],
      "source": [
        "json_data_list = []\n",
        "\n",
        "# Define headers for the request\n",
        "headers = {\n",
        "    'User-Agent': 'Your Name (your_email@example.com)',\n",
        "    'Accept-Encoding': 'gzip, deflate',\n",
        "    'Host': 'data.sec.gov'\n",
        "}\n",
        "\n",
        "# Loop through the first 100 CIKs\n",
        "for i in range(100):\n",
        "    cik = df_cik_lookup['cik'][i]\n",
        "    cik=str(cik).zfill(10)\n",
        "    print(cik)\n",
        "    json_url = f\"https://data.sec.gov/api/xbrl/companyfacts/CIK{cik}.json\"\n",
        "    json_response = requests.get(json_url, headers=headers)\n",
        "\n",
        "    # Check if the request was successful\n",
        "    if json_response.status_code == 200:\n",
        "        json_content = json_response.json()\n",
        "        json_data_list.append(json_content)\n",
        "    else:\n",
        "        print(f\"Failed to fetch data for CIK: {cik}\")\n",
        "\n",
        "# Convert the list of JSON content into a DataFrame\n",
        "df_json_companyfacts = pd.DataFrame(json_data_list)\n",
        "df_json_companyfacts.to_csv('data2.csv', index=False)"
      ]
    },
    {
      "cell_type": "code",
      "execution_count": null,
      "metadata": {
        "id": "y3BTSXQ7xESh"
      },
      "outputs": [],
      "source": [
        "df_json_companyfacts"
      ]
    },
    {
      "cell_type": "code",
      "execution_count": null,
      "metadata": {
        "id": "jNQRk1YHxESh"
      },
      "outputs": [],
      "source": [
        "df_facts=pd.json_normalize(df_json_companyfacts['facts'])"
      ]
    },
    {
      "cell_type": "code",
      "execution_count": null,
      "metadata": {
        "id": "7osp8PuKxESh"
      },
      "outputs": [],
      "source": [
        "df_facts"
      ]
    },
    {
      "cell_type": "code",
      "execution_count": null,
      "metadata": {
        "id": "WsuOUlKLxESh"
      },
      "outputs": [],
      "source": [
        "df_facts.columns"
      ]
    },
    {
      "cell_type": "code",
      "execution_count": null,
      "metadata": {
        "id": "Z41vQcULxESh"
      },
      "outputs": [],
      "source": [
        "url=\"https://data.sec.gov/submissions/CIK0000822663.json\"\n",
        "# Fetch the JSON content from the URL\n",
        "response = requests.get(url,headers=headers)\n",
        "json_content = response.json()\n",
        "\n",
        "# Convert JSON content to a string\n",
        "json_str = json.dumps(json_content)\n",
        "\n",
        "# Parse the string using BeautifulSoup\n",
        "soup = BeautifulSoup(json_str, 'html.parser')\n",
        "\n",
        "# Print the parsed content\n",
        "print(soup.prettify())\n"
      ]
    },
    {
      "cell_type": "code",
      "execution_count": null,
      "metadata": {
        "id": "tOnNhd21xESh"
      },
      "outputs": [],
      "source": [
        "print(json_content.keys())"
      ]
    },
    {
      "cell_type": "code",
      "execution_count": null,
      "metadata": {
        "id": "nZ5exdwRxESh"
      },
      "outputs": [],
      "source": [
        "print(json_content['fiscalYearEnd'])"
      ]
    },
    {
      "cell_type": "code",
      "execution_count": null,
      "metadata": {
        "id": "J-5fHwIkxESh"
      },
      "outputs": [],
      "source": []
    }
  ],
  "metadata": {
    "kernelspec": {
      "display_name": ".venv",
      "language": "python",
      "name": "python3"
    },
    "language_info": {
      "codemirror_mode": {
        "name": "ipython",
        "version": 3
      },
      "file_extension": ".py",
      "mimetype": "text/x-python",
      "name": "python",
      "nbconvert_exporter": "python",
      "pygments_lexer": "ipython3",
      "version": "3.12.3"
    },
    "colab": {
      "provenance": []
    }
  },
  "nbformat": 4,
  "nbformat_minor": 0
}