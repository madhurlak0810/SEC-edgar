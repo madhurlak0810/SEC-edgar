{
  "cells": [
    {
      "cell_type": "markdown",
      "metadata": {
        "colab_type": "text",
        "id": "view-in-github"
      },
      "source": [
        "<a href=\"https://colab.research.google.com/github/madhurlak0810/SEC-edgar/blob/test_inesh/Qualitative_Analysis.ipynb\" target=\"_parent\"><img src=\"https://colab.research.google.com/assets/colab-badge.svg\" alt=\"Open In Colab\"/></a>"
      ]
    },
    {
      "cell_type": "code",
      "execution_count": 12,
      "metadata": {
        "id": "jpp7T7IPcMkG"
      },
      "outputs": [
        {
          "data": {
            "text/plain": [
              "MongoClient(host=['cluster0-shard-00-02.rrvyc.mongodb.net:27017', 'cluster0-shard-00-00.rrvyc.mongodb.net:27017', 'cluster0-shard-00-01.rrvyc.mongodb.net:27017'], document_class=dict, tz_aware=False, connect=False, authsource='admin', replicaset='atlas-95o7b3-shard-0', tls=True)"
            ]
          },
          "execution_count": 12,
          "metadata": {},
          "output_type": "execute_result"
        }
      ],
      "source": [
        "import mongodb as mdb\n",
        "\n",
        "mdb.get_mongodb_client()\n"
      ]
    },
    {
      "cell_type": "code",
      "execution_count": 13,
      "metadata": {
        "id": "C5e7eATidV1a"
      },
      "outputs": [],
      "source": [
        "mdb.download_cik_ticker_map()"
      ]
    },
    {
      "cell_type": "code",
      "execution_count": 14,
      "metadata": {},
      "outputs": [
        {
          "data": {
            "text/plain": [
              "'0001652044'"
            ]
          },
          "execution_count": 14,
          "metadata": {},
          "output_type": "execute_result"
        }
      ],
      "source": [
        "tiker = \"GOOGL\"\n",
        "cik = mdb.cik_from_ticker(tiker)\n",
        "cik"
      ]
    },
    {
      "cell_type": "code",
      "execution_count": 16,
      "metadata": {},
      "outputs": [],
      "source": [
        "mdb.download_all_cik_submissions(cik)"
      ]
    },
    {
      "cell_type": "code",
      "execution_count": 15,
      "metadata": {},
      "outputs": [
        {
          "name": "stdout",
          "output_type": "stream",
          "text": [
            "form\n",
            "2024-01-31 (10-K): https://www.sec.gov/Archives/edgar/data/1652044/000165204424000022/goog-20231231.htm\n",
            "form\n",
            "form\n",
            "2022-02-02 (10-K): https://www.sec.gov/Archives/edgar/data/1652044/000165204422000019/goog-20211231.htm\n"
          ]
        }
      ],
      "source": [
        "mdb.download_submissions_documents(cik,\"10-K\",5)"
      ]
    },
    {
      "cell_type": "code",
      "execution_count": 31,
      "metadata": {},
      "outputs": [],
      "source": [
        "filing_url = 'https://www.sec.gov/Archives/edgar/data/1652044/000165204423000016/goog-20221231.htm'\n",
        "doc = mdb.get_collection(\"documents\").find({\"_id\":filing_url }).next()"
      ]
    },
    {
      "cell_type": "code",
      "execution_count": 19,
      "metadata": {},
      "outputs": [
        {
          "name": "stdout",
          "output_type": "stream",
          "text": [
            "form type: \t\t10-K\n",
            "cik            0001652044\n",
            "name        Alphabet Inc.\n",
            "ticker              GOOGL\n",
            "exchange           Nasdaq\n",
            "Name: 4, dtype: object\n"
          ]
        }
      ],
      "source": [
        "mdb.parse_document(doc)"
      ]
    },
    {
      "cell_type": "code",
      "execution_count": 20,
      "metadata": {},
      "outputs": [],
      "source": [
        "parsed_doc = mdb.get_collection(\"parsed_documents\").find({\"_id\":filing_url}).next()"
      ]
    },
    {
      "cell_type": "code",
      "execution_count": 22,
      "metadata": {},
      "outputs": [],
      "source": [
        "import analyzer as an\n",
        "\n",
        "restructured_doc=an.restructure_parsed_10k(parsed_doc)"
      ]
    },
    {
      "cell_type": "code",
      "execution_count": 23,
      "metadata": {},
      "outputs": [
        {
          "data": {
            "text/plain": [
              "'ITEM 1. BUSINESS Overview As our founders Larry and Sergey wrote in the original founders\\' letter, \"Google is not a conventional company. We do not intend to become one.\" That unconventional spirit has been a driving force throughout our history, inspiring us to tackle big problems and invest in moonshots, such as our long-term opportunities in artificial intelligence (AI). We continue this work under the leadership of Alphabet and Google CEO Sundar Pichai. Alphabet is a collection of businesses -- the largest of which is Google. We report Google in two segments, Google Services and Google Cloud; we also report all non-Google businesses collectively as Other Bets. Alphabet\\'s structure is about helping each of our businesses prosper through strong leaders and independence. Access and technology for everyone The Internet is one of the world\\'s most powerful equalizers; it propels ideas, people and businesses large and small. Our mission to organize the world\\'s information and make it universally accessible and useful is as relevant today as it was when we were founded in 1998. Since then, we have evolved from a company that helps people find answers to a company that also helps people get things done. We are focused on building an even more helpful Google for everyone, and we aspire to give everyone the tools they need to increase their knowledge, health, happiness, and success. Google Search helps people find information and make sense of the world in more natural and intuitive ways, with trillions of searches on Google every year. YouTube provides people with entertainment, information, and opportunities to learn something new. Google Assistant offers the best way to get things done seamlessly across different devices, providing intelligent help throughout a person\\'s day, no matter where they are. Google Cloud helps customers solve today\\'s business challenges, improve productivity, reduce costs, and unlock new growth engines. We are continually innovating and building new products and features that will help our users, partners, customers, and communities and have invested more than $100 billion in research and development in the last five years in support of these efforts. 4 Table of Contents Alphabet Inc. Moonshots Many companies get comfortable doing what they have always done, making only incremental changes. This incrementalism leads to irrelevance over time, especially in technology, where change tends to be revolutionary, not evolutionary. People thought we were crazy when we acquired YouTube and Android and when we launched Chrome, but those efforts have matured into major platforms for digital video and mobile devices and a safer, popular browser. We continue to look toward the future and to invest for the long term within each of our segments. As we said in the original founders\\' letter, we will not shy away from high-risk, high-reward projects that we believe in, as they are the key to our long-term success. The power of AI We believe that AI is a foundational and transformational technology that will provide compelling and helpful benefits to people and society through its capacity to assist, complement, empower, and inspire people in almost every field of human endeavor. As an information and computer science company, we will continue to be at the forefront of advancing the frontier of AI. Through our path-breaking and field-defining research and development, we responsibly and boldly develop more capable and useful AI every day. AI already powers Google\\'s core products that help billions of people every day and has been at the foundation of our core ads quality systems for years, helping large and small businesses all over the world to produce and run effective and efficient ad campaigns that help grow their businesses. AI makes it possible to search in new languages, with multiple inputs, such as using images and text at the same time with the Google App. Some of our most popular products at Google -- including Lens and Translate -- were built entirely using artificial intelligence technologies such as optical character recognition and machine learning. Google Cloud continues to build AI into numerous solutions that our customers can use to develop AI-powered applications -- including processing documents, images, and translation -- to understand and analyze data more efficiently, and to use packaged solutions for a variety of industries. In all these examples, AI significantly enhances the usefulness and multiplies the value of these products and services to people and organizations. Our view is that AI is now, and more than ever, critical to delivering on our mission. As we bring our breakthrough AI innovations into the real world to assist people and benefit society everywhere, we are also pursuing further advancements that will help to unlock scientific discoveries and to tackle humanity\\'s greatest challenges and opportunities. Privacy and security We make it a priority to protect the privacy and security of our products, users, and customers, even if there are near-term financial consequences. We do this by continuously investing in building products that are secure by default; strictly upholding responsible data practices that emphasize privacy by design; and building easy-to-use settings that put people in control. We are continually enhancing these efforts over time, whether by enabling users to auto-delete their data, giving them new tools, such as My Ad Center, to control their ad experience, or advancing anti-malware, anti-phishing, and password security features. Google For reporting purposes Google comprises two segments: Google Services and Google Cloud. Google Services Serving our users We have always been committed to building helpful products that can improve the lives of millions of people worldwide. Our product innovations are what make our services widely used, and our brand one of the most recognized in the world. Google Services\\' core products and platforms include ads, Android, Chrome, hardware, Gmail, Google Drive, Google Maps, Google Photos, Google Play, Search, and YouTube, with broad and growing adoption by users around the world. Our products and services have come a long way since the company was founded more than two decades ago. Rather than the ten blue links in our early search results, users can now get direct answers to their questions using their computer or mobile device, their own voice, a photo, or an image, making it quicker, easier, and more natural to find what they are looking for. Of the searches we see every day, 15% are new. This drive to make information more accessible and helpful has led us over the years to improve the discovery and creation of digital content both on the web and through platforms like Google Play and YouTube. People are consuming many forms of digital content, including watching videos, playing games, listening to music, reading books, 5 Table of Contents Alphabet Inc. and using apps. Working with content creators and partners, we continue to build new ways for people around the world to find great digital content. Fueling all of these great digital experiences are extraordinary platforms and hardware. That is why we continue to invest in platforms like our Android mobile operating system, Chrome browser, and Chrome operating system, as well as growing our family of hardware devices. We see tremendous potential for devices to be helpful and make people\\'s lives easier by combining the best of our AI, software, and hardware. This potential is reflected in our latest generation of hardware products such as the new Pixel 7 and Pixel 7 Pro, and the very first Pixel Watch. Creating products that people rely on every day is a journey that we are investing in for the long-term. How we make money We have built world-class advertising technologies for advertisers, agencies, and publishers to power their digital marketing businesses. Our advertising solutions help millions of companies grow their businesses through our wide range of products across devices and formats, and we aim to ensure positive user experiences by serving the right ads at the right time and by building deep partnerships with brands and agencies. Google Services generates revenues primarily by delivering both performance and brand advertising that appears on Google Search & other properties, YouTube, and Google Network partners\\' properties (\"Google Network properties\"). We continue to invest in both performance and brand advertising and seek to improve the measurability of advertising so advertisers understand the effectiveness of their campaigns. * Performance advertising creates and delivers relevant ads that users will click on leading to direct engagement with advertisers. Performance advertising lets our advertisers connect with users while driving measurable results. Our ads tools allow performance advertisers to create simple text-based ads. * Brand advertising helps enhance users\\' awareness of and affinity for advertisers\\' products and services, through videos, text, images, and other interactive ads that run across various devices. We help brand advertisers deliver digital videos and other types of ads to specific audiences for their brand-building marketing campaigns. We have allocated substantial resources to stopping bad advertising practices and protecting users on the web. We focus on creating the best advertising experiences for our users and advertisers in many ways, including filtering out invalid traffic, removing billions of bad ads from our systems every year, and closely monitoring the sites, apps, and videos where ads appear and blocklisting them when necessary to ensure that ads do not fund bad content. We continue to focus on growing revenues beyond advertising, from Google Play, hardware, and YouTube subscriptions, such as: * Google Play generates revenues from sales of apps and in-app purchases. * Hardware generates revenues from sales of Fitbit wearable devices, Google Nest home products, and Pixel devices. * YouTube non-advertising generates subscription revenues from services such as YouTube Premium and YouTube TV. Google Cloud Google was a company built in the cloud, and we continue to invest in our Google Cloud offerings, including Google Cloud Platform and Google Workspace. Google Cloud Platform provides leading technology in cybersecurity; data, analytics, AI, and machine learning; and infrastructure. Our cybersecurity products help customers detect, protect, and respond to a broad range of cybersecurity threats. Our data cloud unifies data lakes, data warehouses, data governance, and advanced machine learning into a single platform that can analyze data across any cloud. We provide customers an open, reliable, and scalable infrastructure that enables them to run workloads anywhere -- on our Cloud, at the edge, or in their data centers. Additionally, Google Workspace\\'s easy-to-use and secure communication and collaboration tools, which include apps like Gmail, Docs, Drive, Calendar, Meet, and more, enable secure hybrid work, boosting productivity and collaboration. Other Bets Across Alphabet we are also using technology to try to solve big problems that affect a wide variety of industries from improving transportation and health technology to exploring solutions to address climate change. Alphabet\\'s investment in the portfolio of Other Bets includes businesses that are at various stages of development, ranging from those in the R&D phase to those that are in the beginning stages of commercialization. Our goal is for them to become thriving, successful businesses. Other Bets operate as independent companies and some of them have their own 6 Table of Contents Alphabet Inc. boards with independent members and outside investors. While these early-stage businesses naturally come with considerable uncertainty, some of them are already generating revenue and making important strides in their industries. Revenues from Other Bets are generated primarily from the sale of health technology and internet services. Competition Our business is characterized by rapid change as well as new and disruptive technologies. We face formidable competition in every aspect of our business, including, among others, from: * general purpose search engines and information services; * vertical search engines and e-commerce providers for queries related to travel, jobs, and health, which users may navigate directly to rather than go through Google; * online advertising platforms and networks; * other forms of advertising, such as billboards, magazines, newspapers, radio, and television as our advertisers typically advertise in multiple media, both online and offline; * digital content and application platform providers; * providers of enterprise cloud services; * companies that design, manufacture, and market consumer hardware products, including businesses that have developed proprietary platforms; * providers of digital video services; * social networks, which users may rely on for product or service referrals, rather than seeking information through traditional search engines; * providers of workspace communication and connectivity products; and * digital assistant providers. Competing successfully depends heavily on our ability to develop and distribute innovative products and technologies to the marketplace across our businesses. For example, for advertising, competing successfully depends on attracting and retaining: * users, for whom other products and services are literally one click away, largely on the basis of the relevance of our advertising, as well as the general usefulness, security, and availability of our products and services; * advertisers, primarily based on our ability to generate sales leads, and ultimately customers, and to deliver their advertisements in an efficient and effective manner across a variety of distribution channels; and * content providers, primarily based on the quality of our advertiser base, our ability to help these partners generate revenues from advertising, and the terms of our agreements with them. For additional information about competition, see Risk Factors in Item 1A of this Annual Report on Form 10-K. Ongoing Commitment to Sustainability We believe that every business has the opportunity and obligation to protect our planet. Sustainability is one of our core values at Google, and we strive to build sustainability into everything we do. We have been a leader on sustainability and climate change since Google\\'s founding more than 20 years ago. These are some of our key achievements over the past two decades: * In 2007, we became the first major company to be carbon neutral for our operations. * In 2017, we became the first major company to match 100% of our annual electricity use with renewable energy, which we have achieved for five consecutive years. * In 2020, we issued $5.75 billion in sustainability bonds--the largest sustainability or green bond issuance by any company in history at the time. The net proceeds from the issuance were used to fund environmentally and socially responsible projects in the following eight areas: energy efficiency, clean energy, green buildings, clean transportation, circular economy and design, affordable housing, commitment to racial equity, and support for small businesses and COVID-19 crisis response. As of 2022, we had fully allocated the net proceeds from our sustainability bonds as outlined in our Sustainability Bond Impact Report published in 2022. Our sustainability strategy is focused on three key pillars: accelerating the transition to carbon-free energy and a circular economy, empowering everyone with technology, and benefiting the people and places where we operate. 7 Table of Contents Alphabet Inc. To accelerate the transition to a carbon-free and circular economy, in 2020, we launched our third decade of climate action, and we are now working toward a new set of ambitious goals. By 2030, we aim to: * achieve net-zero emissions across all of our operations and value chain, including our consumer hardware products; * become the first major company to run on carbon-free energy 24 hours a day, seven days a week, 365 days a year; * enable 5 gigawatts of new carbon-free energy through investments in our key manufacturing regions; and * help more than 500 cities and local governments reduce an aggregate of 1 gigaton (one billion tons) of carbon emissions annually. We also aim to maximize the reuse of finite resources across our operations, products, and supply chains and to enable others to do the same. We are committed to helping people make more sustainable choices by empowering them with technology. We introduced eco-friendly routing in Google Maps; new features to book flights or purchase appliances that have lower carbon footprints; and when people come to Google Search with questions about climate change, we show information from authoritative sources like the United Nations. To benefit the people and places where we operate, we have set goals to replenish more water than we consume by 2030 and to support water security in communities where we operate. We are focused on three areas: enhancing our stewardship of water resources across Google offices and data centers; replenishing our water use and improving watershed health and ecosystems in water-stressed communities; and sharing technology and tools that help everyone predict, prevent, and recover from water stress. At Google we remain steadfast in our commitment to sustainability, and we will continue to lead and encourage others to join us in improving the health of our planet. We are proud of what we have achieved so far, and we are energized to help move the world closer to a more sustainable and carbon-free future for all. More information on our approach to sustainability can be found in our annual sustainability reports, including Google\\'s Environmental Report. The contents of our sustainability reports are not incorporated by reference into this Annual Report on Form 10-K or in any other report or document we file with the SEC. For additional information about risks and uncertainties applicable to our commitments to attain certain sustainability goals, see Risk Factors in Item 1A of this Annual Report on Form 10-K. Culture and Workforce We are a company of curious, talented, and passionate people. We embrace collaboration and creativity, and encourage the iteration of ideas to address complex challenges in technology and society. Our people are critical for our continued success, so we work hard to create an environment where employees can have fulfilling careers, and be happy, healthy, and productive. We offer industry-leading benefits and programs to take care of the diverse needs of our employees and their families, including opportunities for career growth and development, resources to support their financial health, and access to excellent healthcare choices. Our competitive compensation programs help us to attract and retain top candidates, and we will continue to invest in recruiting talented people to technical and non-technical roles, and rewarding them well. We provide a variety of high quality training and support to managers to build and strengthen their capabilities--ranging from courses for new managers, to learning resources that help them provide feedback and manage performance, to coaching and individual support. At Alphabet we are committed to making diversity, equity, and inclusion part of everything we do and to growing a workforce that is representative of the users we serve. More information on Google\\'s approach to diversity can be found in our annual diversity reports, available publicly at diversity.google. The contents of our diversity reports are not incorporated by reference into this Annual Report on Form 10-K or in any other report or document we file with the SEC. As of December 31, 2022, Alphabet had 190,234 employees. We have work councils and statutory employee representation obligations in certain countries, and we are committed to supporting protected labor rights, maintaining an open culture, and listening to all employees. Supporting healthy and open dialogue is central to how we work, and we communicate information about the company through multiple internal channels to our employees. When necessary we contract with businesses around the world to provide specialized services where we do not have appropriate in-house expertise or resources, often in fields that require specialized training like cafe operations, content moderation, customer support, and physical security. We also contract with temporary staffing agencies when we need to cover short-term leaves, when we have spikes in business needs, or when we need to quickly incubate 8 Table of Contents Alphabet Inc. special projects. We choose our partners and staffing agencies carefully, and review their compliance with Google\\'s Supplier Code of Conduct. We continually make improvements to promote a respectful and positive working environment for everyone -- employees, vendors, and temporary staff alike. Government Regulation We are subject to numerous United States (U.S.) federal, state, and local, as well as foreign laws and regulations covering a wide variety of subjects. Like other companies in the technology industry, we face heightened scrutiny from both U.S. and foreign governments with respect to our compliance with laws and regulations. Many of these laws and regulations are evolving and their applicability and scope, as interpreted by the courts, remain uncertain. Particularly with regard to data privacy and security; content moderation; competition; consumer protection; climate change and sustainability; and reporting on human capital and diversity, we have seen an increase in new and evolving laws and regulations, as well as related enforcement actions, being proposed and implemented in recent years by legislative bodies around the world. Our compliance with these laws and regulations may be onerous and could, individually or in the aggregate, increase our cost of doing business, make our products and services less useful, limit our ability to pursue certain business models, cause us to change our business practices, affect our competitive position relative to our peers, and/or otherwise have an adverse effect on our business, reputation, financial condition, and operating results. For additional information about government regulation applicable to our business, see Risk Factors in Item 1A; Trends in Our Business and Financial Effect in Part II, Item 7; and Legal Matters in Note 10 of the Notes to Consolidated Financial Statements included in Part II, Item 8 of this Annual Report on Form 10-K. Intellectual Property We rely on various intellectual property laws, confidentiality procedures and contractual provisions to protect our proprietary technology and our brand. We have registered, and applied for the registration of, U.S. and international trademarks, service marks, domain names, and copyrights. We have also filed patent applications in the U.S. and foreign countries covering certain of our technology, and acquired patent assets to supplement our portfolio. We have licensed in the past, and expect that we may license in the future, certain of our rights to other parties. For additional information, see Risk Factors in Item 1A of this Annual Report on Form 10-K. Available Information Our website is located at www.abc.xyz, and our investor relations website is located at www.abc.xyz/investor. Access to our Annual Reports on Form 10-K, Quarterly Reports on Form 10-Q, Current Reports on Form 8-K, and our Proxy Statements, and any amendments to these reports, is available via a link through our investor relations website, free of charge, after we file or furnish them with the SEC and they are available on the SEC\\'s website. We webcast via our investor relations website our earnings calls and certain events we participate in or host with members of the investment community. Our investor relations website also provides notifications of news or announcements regarding our financial performance and other items that may be material or of interest to our investors, including SEC filings, investor events, press and earnings releases, and blogs. We also share Google news and product updates on Google\\'s Keyword blog at https://www.blog.google/, that may be material or of interest to our investors. Further, corporate governance information, including our certificate of incorporation, bylaws, governance guidelines, board committee charters, and code of conduct, is also available on our investor relations website. The contents of our websites are not incorporated by reference into this Annual Report on Form 10-K or in any other report or document we file with the SEC, and any references to our websites are intended to be inactive textual references only.'"
            ]
          },
          "execution_count": 23,
          "metadata": {},
          "output_type": "execute_result"
        }
      ],
      "source": [
        "section_text = restructured_doc[\"business\"][\"text\"]\n",
        "section_text"
      ]
    },
    {
      "cell_type": "code",
      "execution_count": 24,
      "metadata": {},
      "outputs": [
        {
          "data": {
            "text/plain": [
              "25020"
            ]
          },
          "execution_count": 24,
          "metadata": {},
          "output_type": "execute_result"
        }
      ],
      "source": [
        "len(section_text)"
      ]
    },
    {
      "cell_type": "code",
      "execution_count": 26,
      "metadata": {},
      "outputs": [
        {
          "name": "stdout",
          "output_type": "stream",
          "text": [
            "business original_len: 25020 use gpt-4o-mini w/ chain refine\n"
          ]
        },
        {
          "name": "stderr",
          "output_type": "stream",
          "text": [
            "c:\\Users\\madhu\\OneDrive\\Documents\\GitHub\\SEC-edgar\\analyzer.py:81: LangChainDeprecationWarning: The method `Chain.run` was deprecated in langchain 0.1.0 and will be removed in 1.0. Use :meth:`~invoke` instead.\n",
            "  res = chain.run(docs)\n"
          ]
        },
        {
          "name": "stdout",
          "output_type": "stream",
          "text": [
            "\n",
            "\n",
            "\u001b[1m> Entering new RefineDocumentsChain chain...\u001b[0m\n",
            "\n",
            "\n",
            "\u001b[1m> Entering new LLMChain chain...\u001b[0m\n",
            "Prompt after formatting:\n",
            "\u001b[32;1m\u001b[1;3mWrite a concise summary of the following:\n",
            "\n",
            "\n",
            "\"ITEM 1. BUSINESS Overview As our founders Larry and Sergey wrote in the original founders' letter, \"Google is not a conventional company. We do not intend to become one.\" That unconventional spirit has been a driving force throughout our history, inspiring us to tackle big problems and invest in moonshots, such as our long-term opportunities in artificial intelligence (AI). We continue this work under the leadership of Alphabet and Google CEO Sundar Pichai. Alphabet is a collection of businesses -- the largest of which is Google. We report Google in two segments, Google Services and Google Cloud; we also report all non-Google businesses collectively as Other Bets. Alphabet's structure is about helping each of our businesses prosper through strong leaders and independence. Access and technology for everyone The Internet is one of the world's most powerful equalizers; it propels ideas, people and businesses large and small. Our mission to organize the world's information and make it universally accessible and useful is as relevant today as it was when we were founded in 1998. Since then, we have evolved from a company that helps people find answers to a company that also helps people get things done. We are focused on building an even more helpful Google for everyone, and we aspire to give everyone the tools they need to increase their knowledge, health, happiness, and success. Google Search helps people find information and make sense of the world in more natural and intuitive ways, with trillions of searches on Google every year. YouTube provides people with entertainment, information, and opportunities to learn something new. Google Assistant offers the best way to get things done seamlessly across different devices, providing intelligent help throughout a person's day, no matter where they are. Google Cloud helps customers solve today's business challenges, improve productivity, reduce costs, and unlock new growth engines. We are continually innovating and building new products and features that will help our users, partners, customers, and communities and have invested more than $100 billion in research and development in the last five years in support of these efforts. 4 Table of Contents Alphabet Inc. Moonshots Many companies get comfortable doing what they have always done, making only incremental changes. This incrementalism leads to irrelevance over time, especially in technology, where change tends to be revolutionary, not evolutionary. People thought we were crazy when we acquired YouTube and Android and when we launched Chrome, but those efforts have matured into major platforms for digital video and mobile devices and a safer, popular browser. We continue to look toward the future and to invest for the long term within each of our segments. As we said in the original founders' letter, we will not shy away from high-risk, high-reward projects that we believe in, as they are the key to our long-term success. The power of AI We believe that AI is a foundational and transformational technology that will provide compelling and helpful benefits to people and society through its capacity to assist, complement, empower, and inspire people in almost every field of human endeavor. As an information and computer science company, we will continue to be at the forefront of advancing the frontier of AI. Through our path-breaking and field-defining research and development, we responsibly and boldly develop more capable and useful AI every day. AI already powers Google's core products that help billions of people every day and has been at the foundation of our core ads quality systems for years, helping large and small businesses all over the world to produce and run effective and efficient ad campaigns that help grow their businesses. AI makes it possible to search in new languages, with multiple inputs, such as using images and text at the same time with the Google App. Some of our most popular products at Google -- including Lens and Translate -- were built entirely using artificial intelligence technologies such as optical character recognition and machine learning. Google Cloud continues to build AI into numerous solutions that our customers can use to develop AI-powered applications -- including processing documents, images, and translation -- to understand and analyze data more efficiently, and to use packaged solutions for a variety of industries. In all these examples, AI significantly enhances the usefulness and multiplies the value of these products and services to people and organizations. Our view is that AI is now, and more than ever, critical to delivering on our mission. As we bring our breakthrough AI innovations into the real world to assist people and benefit society everywhere, we are also pursuing further advancements that will help to unlock scientific discoveries and to tackle humanity's greatest challenges and opportunities. Privacy and security We make it a priority to protect the privacy and security of our products, users, and customers, even if there are near-term financial consequences. We do this by continuously investing in building products that are secure by default; strictly upholding responsible data practices that emphasize privacy by design; and building easy-to-use settings that put people in control. We are continually enhancing these efforts over time, whether by enabling users to auto-delete their data, giving them new tools, such as My Ad Center, to control their ad experience, or advancing anti-malware, anti-phishing, and password security features. Google For reporting purposes Google comprises two segments: Google Services and Google Cloud. Google Services Serving our users We have always been committed to building helpful products that can improve the lives of millions of people worldwide. Our product innovations are what make our services widely used, and our brand one of the most recognized in the world. Google Services' core products and platforms include ads, Android, Chrome, hardware, Gmail, Google Drive, Google Maps, Google Photos, Google Play, Search, and YouTube, with broad and growing adoption by users around the world. Our products and services have come a long way since the company was founded more than two decades ago. Rather than the ten blue links in our early search results, users can now get direct answers to their questions using their computer or mobile device, their own voice, a photo, or an image, making it quicker, easier, and more natural to find what they are looking for. Of the searches we see every day, 15% are new. This drive to make information more accessible and helpful has led us over the years to improve the discovery and creation of digital content both on the web and through platforms like Google Play and YouTube. People are consuming many forms of digital content, including watching videos, playing games, listening to music, reading books, 5 Table of Contents Alphabet Inc. and using apps. Working with content creators and partners, we continue to build new ways for people around the world to find great digital content. Fueling all of these great digital experiences are extraordinary platforms and hardware. That is why we continue to invest in platforms like our Android mobile operating system, Chrome browser, and Chrome operating system, as well as growing our family of hardware devices. We see tremendous potential for devices to be helpful and make people's lives easier by combining the best of our AI, software, and hardware. This potential is reflected in our latest generation of hardware products such as the new Pixel 7 and Pixel 7 Pro, and the very first Pixel Watch. Creating products that people rely on every day is a journey that we are investing in for the long-term. How we make money We have built world-class advertising technologies for advertisers, agencies, and publishers to power their digital marketing businesses. Our advertising solutions help millions of companies grow their businesses through our wide range of products across devices and formats, and we aim to ensure positive user experiences by serving the right ads at the right time and by building deep partnerships with brands and agencies. Google Services generates revenues primarily by delivering both performance and brand advertising that appears on Google Search & other properties, YouTube, and Google Network partners' properties (\"Google Network properties\"). We continue to invest in both performance and brand advertising and seek to improve the measurability of advertising so advertisers understand the effectiveness of their campaigns. * Performance advertising creates and delivers relevant ads that users will click on leading to direct engagement with advertisers. Performance advertising lets our advertisers connect with users while driving measurable results. Our ads tools allow performance advertisers to create simple text-based ads. * Brand advertising helps enhance users' awareness of and affinity for advertisers' products and services, through videos, text, images, and other interactive ads that run across various devices. We help brand advertisers deliver digital videos and other types of ads to specific audiences for their brand-building marketing campaigns. We have allocated substantial resources to stopping bad advertising practices and protecting users on the web. We focus on creating the best advertising experiences for our users and advertisers in many ways, including filtering out invalid traffic, removing billions of bad ads from our systems every year, and closely monitoring the sites, apps, and videos where ads appear and blocklisting them when necessary to ensure that ads do not fund bad content. We continue to focus on growing revenues beyond advertising, from Google Play, hardware, and YouTube subscriptions, such as: * Google Play generates revenues from sales of apps and in-app purchases. * Hardware generates revenues from sales of Fitbit wearable devices, Google Nest home products, and Pixel devices. * YouTube non-advertising generates subscription revenues from services such as YouTube Premium and YouTube TV. Google Cloud Google was a company built in the cloud, and we continue to invest in our Google Cloud offerings, including Google Cloud Platform and Google Workspace. Google Cloud Platform provides leading technology in cybersecurity; data, analytics, AI, and machine learning; and infrastructure. Our cybersecurity products help customers detect, protect, and respond to a broad range of cybersecurity threats. Our data cloud unifies data lakes, data warehouses, data governance, and advanced machine learning into a single platform that can analyze data across any cloud. We provide customers an open, reliable, and scalable infrastructure that enables them to run workloads anywhere -- on our Cloud, at the edge, or in their data centers. Additionally, Google Workspace's easy-to-use and secure communication and collaboration tools, which include apps like Gmail, Docs, Drive, Calendar, Meet, and more, enable secure hybrid work, boosting productivity and collaboration. Other Bets Across Alphabet we are also using technology to try to solve big problems that affect a wide variety of industries from improving transportation and health technology to exploring solutions to address climate change. Alphabet's investment in the portfolio of Other Bets includes businesses that are at various stages of development, ranging from those in the R&D phase to those that are in the beginning stages of commercialization. Our goal is for them to become thriving, successful businesses. Other Bets operate as independent companies and some of them have their own 6 Table of Contents Alphabet Inc. boards with independent members and outside investors. While these early-stage businesses naturally come with considerable uncertainty, some of them are already generating revenue and making important strides in their industries. Revenues from Other Bets are generated primarily from the sale of health technology and internet services. Competition Our business is characterized by rapid change as well as new and disruptive technologies. We face formidable competition in every aspect of our business, including, among others, from: * general purpose search engines and information services; * vertical search engines and e-commerce providers for queries related to travel, jobs, and health, which users may navigate directly to rather than go through Google; * online advertising platforms and networks; * other forms of advertising, such as billboards, magazines, newspapers, radio, and television as our advertisers typically advertise in multiple media, both online and offline; * digital content and application platform providers; * providers of enterprise cloud services; * companies that design, manufacture, and market consumer hardware products, including businesses that have developed proprietary platforms; * providers of digital video services; * social networks, which users may rely on for product or service referrals, rather than seeking information through traditional search engines; * providers of workspace communication and connectivity products; and * digital assistant providers. Competing successfully depends heavily on our ability to develop and distribute innovative products and technologies to the marketplace across our businesses. For example, for advertising, competing successfully depends on attracting and retaining: * users, for whom other products and services are literally one click away, largely on the basis of the relevance of our advertising, as well as the general usefulness, security, and availability of our products and services; * advertisers, primarily based on our ability to generate sales leads, and ultimately customers, and to deliver their advertisements in an efficient and effective manner across a variety of distribution channels; and * content providers, primarily based on the quality of our advertiser base, our ability to help these partners generate revenues from advertising, and the terms of our agreements with them. For additional information about competition, see Risk Factors in Item 1A of this Annual Report on Form 10-K. Ongoing Commitment to Sustainability We believe that every business has the opportunity and obligation to protect our planet. Sustainability is one of our core values at Google, and we strive to build sustainability into everything we do. We have been a leader on sustainability and climate change since Google's founding more than 20 years ago. These are some of our key achievements over the past two decades: * In 2007, we became the first major company to be carbon neutral for our operations. * In 2017, we became the first major company to match 100% of our annual electricity use with renewable energy, which we have achieved for five consecutive years. * In 2020, we issued $5.75 billion in sustainability bonds--the largest sustainability or green bond issuance by any company in history at the time. The net proceeds from the issuance were used to fund environmentally and socially responsible projects in the following eight areas: energy efficiency, clean energy, green buildings, clean transportation, circular economy and design, affordable housing, commitment to racial equity, and support for small businesses and COVID-19 crisis response. As of 2022, we had fully allocated the net proceeds from our sustainability bonds as outlined in our Sustainability Bond Impact Report published in 2022. Our sustainability strategy is focused on three key pillars: accelerating the transition to carbon-free energy and a circular economy, empowering everyone with technology, and benefiting the people and places where we operate. 7 Table of Contents Alphabet Inc. To accelerate the transition to a carbon-free and circular economy, in 2020, we launched our third decade of climate action, and we are now working toward a new set of ambitious goals. By 2030, we aim to: * achieve net-zero emissions across all of our operations and value chain, including our consumer hardware products; * become the first major company to run on carbon-free energy 24 hours a day, seven days a week, 365 days a year; * enable 5 gigawatts of new carbon-free energy through investments in our key manufacturing regions; and * help more than 500 cities and local governments reduce an aggregate of 1 gigaton (one billion tons) of carbon emissions annually. We also aim to maximize the reuse of finite resources across our operations, products, and supply chains and to enable others to do the same. We are committed to helping people make more sustainable choices by empowering them with technology. We introduced eco-friendly routing in Google Maps; new features to book flights or purchase appliances that have lower carbon footprints; and when people come to Google Search with questions about climate change, we show information from authoritative sources like the United Nations. To benefit the people and places where we operate, we have set goals to replenish more water than we consume by 2030 and to support water security in communities where we operate. We are focused on three areas: enhancing our stewardship of water resources across Google offices and data centers; replenishing our water use and improving watershed health and ecosystems in water-stressed communities; and sharing technology and tools that help everyone predict, prevent, and recover from water stress. At Google we remain steadfast in our commitment to sustainability, and we will continue to lead and encourage others to join us in improving the health of our planet. We are proud of what we have achieved so far, and we are energized to help move the world closer to a more sustainable and carbon-free future for all. More information on our approach to sustainability can be found in our annual sustainability reports, including Google's Environmental Report. The contents of our sustainability reports are not incorporated by reference into this Annual Report on Form 10-K or in any other report or document we file with the SEC. For additional information about risks and uncertainties applicable to our commitments to attain certain sustainability goals, see Risk Factors in Item 1A of this Annual Report on Form 10-K. Culture and Workforce We are a company of curious, talented, and passionate people. We embrace collaboration and creativity, and encourage the iteration of ideas to address complex challenges in technology and society. Our people are critical for our continued success, so we work hard to create an environment where employees can have fulfilling careers, and be happy, healthy, and productive. We offer industry-leading benefits and programs to take care of the diverse needs of our employees and their families, including opportunities for career growth and development, resources to support their financial health, and access to excellent healthcare choices. Our competitive compensation programs help us to attract and retain top candidates, and we will continue to invest in recruiting talented people to technical and non-technical roles, and rewarding them well. We provide a variety of high quality training and support to managers to build and strengthen their capabilities--ranging from courses for new managers, to learning resources that help them provide feedback and manage performance, to coaching and individual support. At Alphabet we are committed to making diversity, equity, and inclusion part of everything we do and to growing a workforce that is representative of the users we serve. More information on Google's approach to diversity can be found in our annual diversity reports, available publicly at diversity.google. The contents of our diversity reports are not incorporated by reference into this Annual Report on Form 10-K or in any other report or document we file with the SEC. As of December 31, 2022,\"\n",
            "\n",
            "\n",
            "CONCISE SUMMARY:\u001b[0m\n",
            "\n",
            "\u001b[1m> Finished chain.\u001b[0m\n",
            "\n",
            "\n",
            "\u001b[1m> Entering new LLMChain chain...\u001b[0m\n",
            "Prompt after formatting:\n",
            "\u001b[32;1m\u001b[1;3mYour job is to produce a final summary.\n",
            "We have provided an existing summary up to a certain point: Alphabet Inc., under the leadership of CEO Sundar Pichai, continues to embody the unconventional spirit outlined by its founders, Larry and Sergey. The company operates primarily through Google, which is divided into two segments: Google Services and Google Cloud, while non-Google ventures are categorized as Other Bets. Google’s mission remains to organize information and enhance accessibility, with a strong focus on innovation in artificial intelligence (AI) to benefit users and businesses alike.\n",
            "\n",
            "The company prioritizes user privacy and security, ensuring products are built with responsible data practices. Google Services generates revenue primarily through advertising, while Google Cloud provides advanced solutions for cybersecurity, data analytics, and productivity. Alphabet also invests in Other Bets aimed at solving significant societal challenges.\n",
            "\n",
            "Sustainability is a core value, with ambitious goals for carbon neutrality and environmental responsibility by 2030. Additionally, Alphabet fosters a diverse and inclusive workforce, emphasizing employee well-being and development. The company recognizes competition across various sectors and is committed to continuous innovation to maintain its market position.\n",
            "We have the opportunity to refine the existing summary (only if needed) with some more context below.\n",
            "------------\n",
            "on Form 10-K or in any other report or document we file with the SEC. As of December 31, 2022, Alphabet had 190,234 employees. We have work councils and statutory employee representation obligations in certain countries, and we are committed to supporting protected labor rights, maintaining an open culture, and listening to all employees. Supporting healthy and open dialogue is central to how we work, and we communicate information about the company through multiple internal channels to our employees. When necessary we contract with businesses around the world to provide specialized services where we do not have appropriate in-house expertise or resources, often in fields that require specialized training like cafe operations, content moderation, customer support, and physical security. We also contract with temporary staffing agencies when we need to cover short-term leaves, when we have spikes in business needs, or when we need to quickly incubate 8 Table of Contents Alphabet Inc. special projects. We choose our partners and staffing agencies carefully, and review their compliance with Google's Supplier Code of Conduct. We continually make improvements to promote a respectful and positive working environment for everyone -- employees, vendors, and temporary staff alike. Government Regulation We are subject to numerous United States (U.S.) federal, state, and local, as well as foreign laws and regulations covering a wide variety of subjects. Like other companies in the technology industry, we face heightened scrutiny from both U.S. and foreign governments with respect to our compliance with laws and regulations. Many of these laws and regulations are evolving and their applicability and scope, as interpreted by the courts, remain uncertain. Particularly with regard to data privacy and security; content moderation; competition; consumer protection; climate change and sustainability; and reporting on human capital and diversity, we have seen an increase in new and evolving laws and regulations, as well as related enforcement actions, being proposed and implemented in recent years by legislative bodies around the world. Our compliance with these laws and regulations may be onerous and could, individually or in the aggregate, increase our cost of doing business, make our products and services less useful, limit our ability to pursue certain business models, cause us to change our business practices, affect our competitive position relative to our peers, and/or otherwise have an adverse effect on our business, reputation, financial condition, and operating results. For additional information about government regulation applicable to our business, see Risk Factors in Item 1A; Trends in Our Business and Financial Effect in Part II, Item 7; and Legal Matters in Note 10 of the Notes to Consolidated Financial Statements included in Part II, Item 8 of this Annual Report on Form 10-K. Intellectual Property We rely on various intellectual property laws, confidentiality procedures and contractual provisions to protect our proprietary technology and our brand. We have registered, and applied for the registration of, U.S. and international trademarks, service marks, domain names, and copyrights. We have also filed patent applications in the U.S. and foreign countries covering certain of our technology, and acquired patent assets to supplement our portfolio. We have licensed in the past, and expect that we may license in the future, certain of our rights to other parties. For additional information, see Risk Factors in Item 1A of this Annual Report on Form 10-K. Available Information Our website is located at www.abc.xyz, and our investor relations website is located at www.abc.xyz/investor. Access to our Annual Reports on Form 10-K, Quarterly Reports on Form 10-Q, Current Reports on Form 8-K, and our Proxy Statements, and any amendments to these reports, is available via a link through our investor relations website, free of charge, after we file or furnish them with the SEC and they are available on the SEC's website. We webcast via our investor relations website our earnings calls and certain events we participate in or host with members of the investment community. Our investor relations website also provides notifications of news or announcements regarding our financial performance and other items that may be material or of interest to our investors, including SEC filings, investor events, press and earnings releases, and blogs. We also share Google news and product updates on Google's Keyword blog at https://www.blog.google/, that may be material or of interest to our investors. Further, corporate governance information, including our certificate of incorporation, bylaws, governance guidelines, board committee charters, and code of conduct, is also available on our investor relations website. The contents of our websites are not incorporated by reference into this Annual Report on Form 10-K or in any other report or document we file with the SEC, and any references to our websites are intended to be inactive textual references only.\n",
            "------------\n",
            "Given the new context, refine the original summary.\n",
            "If the context isn't useful, return the original summary.\u001b[0m\n",
            "\n",
            "\u001b[1m> Finished chain.\u001b[0m\n",
            "\n",
            "\u001b[1m> Finished chain.\u001b[0m\n"
          ]
        }
      ],
      "source": [
        "chain_type = \"refine\"\n",
        "model = \"gpt-4o-mini\"\n",
        "verbose = True\n",
        "\n",
        "# get summary from openAI model\n",
        "print(f\"business original_len: {len(section_text)} use {model} w/ chain {chain_type}\")\n",
        "summary, cost = an.summarize_section(section_text, model, chain_type, verbose)"
      ]
    },
    {
      "cell_type": "code",
      "execution_count": 27,
      "metadata": {},
      "outputs": [
        {
          "name": "stdout",
          "output_type": "stream",
          "text": [
            "BULLET POINTS\n",
            "Alphabet Inc., under the leadership of CEO Sundar Pichai, continues to embody the unconventional spirit outlined by its founders, Larry and Sergey\n",
            "The company operates primarily through Google, which is divided into two segments: Google Services and Google Cloud, while non-Google ventures are categorized as Other Bets\n",
            "Google’s mission remains to organize information and enhance accessibility, with a strong focus on innovation in artificial intelligence (AI) to benefit users and businesses alike.\n",
            "\n",
            "The company prioritizes user privacy and security, ensuring products are built with responsible data practices\n",
            "Google Services generates revenue primarily through advertising, while Google Cloud provides advanced solutions for cybersecurity, data analytics, and productivity\n",
            "Alphabet also invests in Other Bets aimed at solving significant societal challenges.\n",
            "\n",
            "As of December 31, 2022, Alphabet had 190,234 employees and is committed to supporting protected labor rights, maintaining an open culture, and fostering healthy dialogue within its workforce\n",
            "The company actively reviews compliance with its Supplier Code of Conduct when contracting specialized services and temporary staffing agencies, ensuring a respectful working environment for all.\n",
            "\n",
            "Sustainability is a core value, with ambitious goals for carbon neutrality and environmental responsibility by 2030\n",
            "Additionally, Alphabet fosters a diverse and inclusive workforce, emphasizing employee well-being and development\n",
            "The company recognizes competition across various sectors and is committed to continuous innovation to maintain its market position.\n",
            "\n",
            "Furthermore, Alphabet faces heightened scrutiny from governments regarding compliance with evolving laws and regulations, particularly in data privacy and security, content moderation, and sustainability\n",
            "The company employs various intellectual property protections to safeguard its technology and brand\n",
            "Overall, Alphabet remains dedicated to transparency, regularly communicating with investors through its investor relations website and various channels.\n",
            "cost: None in USD\n"
          ]
        }
      ],
      "source": [
        "print(f\"BULLET POINTS\")\n",
        "for el in summary:\n",
        "    print(el)\n",
        "print(f\"cost: {cost} in USD\")"
      ]
    },
    {
      "cell_type": "code",
      "execution_count": 28,
      "metadata": {},
      "outputs": [
        {
          "name": "stdout",
          "output_type": "stream",
          "text": [
            "business original_len: 25020 use gpt-3.5-turbo-16k w/ chain refine\n",
            "business original_len: 25020 summary_len: 748 reduction: 97.01% cost: 0.0204$ duration:4.8s used gpt-3.5-turbo-16k w/ chain refine\n",
            "risk original_len: 82337 use gpt-3.5-turbo-16k w/ chain refine\n",
            "risk original_len: 82337 summary_len: 2007 reduction: 97.56% cost: 0.0712$ duration:18.4s used gpt-3.5-turbo-16k w/ chain refine\n",
            "property original_len: 328 use gpt-3.5-turbo w/ chain refine\n",
            "property original_len: 328 summary_len: 226 reduction: 31.099999999999994% cost: 0.0002$ duration:0.9s used gpt-3.5-turbo w/ chain refine\n",
            "legal original_len: 272 use gpt-3.5-turbo w/ chain refine\n",
            "legal original_len: 272 summary_len: 96 reduction: 64.71000000000001% cost: 0.0002$ duration:0.9s used gpt-3.5-turbo w/ chain refine\n",
            "other original_len: 493 use gpt-3.5-turbo w/ chain refine\n",
            "other original_len: 493 summary_len: 314 reduction: 36.31% cost: 0.0004$ duration:1.0s used gpt-3.5-turbo w/ chain refine\n",
            "\n",
            "Total Cost: 0.09240000000000001$, Total duration: 26.2s\n"
          ]
        }
      ],
      "source": [
        "an.sections_summary(parsed_doc)"
      ]
    },
    {
      "cell_type": "code",
      "execution_count": 29,
      "metadata": {},
      "outputs": [],
      "source": [
        "sections=mdb.get_collection(\"items_summary\").find({\"_id\":filing_url}).next()"
      ]
    },
    {
      "cell_type": "code",
      "execution_count": 30,
      "metadata": {},
      "outputs": [
        {
          "data": {
            "text/plain": [
              "{'_id': 'https://www.sec.gov/Archives/edgar/data/1652044/000165204423000016/goog-20221231.htm',\n",
              " 'name': 'Alphabet Inc.',\n",
              " 'ticker': 'GOOGL',\n",
              " 'form_type': '10-K',\n",
              " 'filing_date': None,\n",
              " 'business': {'summary': ['Alphabet Inc., the parent company of Google, is committed to supporting protected labor rights and maintaining an open culture',\n",
              "   'The company communicates information through multiple internal channels and contracts with businesses and staffing agencies when necessary',\n",
              "   'Alphabet faces scrutiny from governments regarding compliance with laws and regulations, particularly in areas such as data privacy, content moderation, competition, consumer protection, climate change, and diversity',\n",
              "   'The company relies on intellectual property laws and procedures to protect its technology and brand',\n",
              "   'Information about Alphabet is available on its website and investor relations website, including financial reports, webcasts, news, and corporate governance information.'],\n",
              "  'links': [{'title': 'business', 'link': None}]},\n",
              " 'risk': {'summary': ['Alphabet Inc., the parent company of Google, faces a range of risks and uncertainties that could adversely affect its business and financial results',\n",
              "   'These risks include a heavy reliance on advertising revenue, potential loss of partners, the impact of disruptive technologies on online ads customization, intense competition, declining revenue growth, pressure on operating margins, and risks related to intellectual property rights, brand maintenance, manufacturing and supply chain, information technology systems, data centers, data privacy and security, evolving technology, changing user preferences, and international operations',\n",
              "   'Additionally, Alphabet Inc. faces risks related to laws, regulations, and policies, including those concerning competition, data privacy, copyright, content moderation, and consumer protection',\n",
              "   'Compliance with these measures is costly and subject to ongoing changes',\n",
              "   'The company also faces risks related to stock ownership, including the concentration of stock ownership, provisions in charter documents and Delaware law that discourage takeovers, and volatility in stock trading prices',\n",
              "   'Furthermore, Alphabet Inc. is exposed to financial market risks, including changes in foreign currency exchange rates, interest rates, and equity investment risks',\n",
              "   \"The company's performance may also be affected by the continuing effects of the COVID-19 pandemic and its impact on economic activity\",\n",
              "   'Acquisitions, joint ventures, investments, and divestitures could result in operating difficulties, dilution, and other consequences',\n",
              "   \"The loss of key personnel and challenges in retaining and motivating skilled employees could also harm the company's business\",\n",
              "   'In addition, Alphabet Inc. faces risks associated with its investments in equity securities, including potential market price volatility and the inherent risks of investing in early-stage companies',\n",
              "   \"In summary, these risks and challenges could have a detrimental impact on Alphabet Inc.'s business, financial condition, and operating results.\"],\n",
              "  'links': [{'title': 'risk factors', 'link': None},\n",
              "   {'title': 'quantitative and qualitative disclosures about market risk',\n",
              "    'link': None}]},\n",
              " 'property': {'summary': ['Alphabet Inc. owns and leases office facilities and data centers worldwide, with headquarters in Mountain View, California',\n",
              "   'They believe their existing facilities are in good condition and suitable for their business operations.'],\n",
              "  'links': [{'title': 'properties', 'link': None}]},\n",
              " 'legal': {'summary': ['Refer to Note 10 in the Annual Report on Form 10-K for information on pending legal proceedings.'],\n",
              "  'links': [{'title': 'legal proceedings', 'link': None}]},\n",
              " 'other': {'summary': ['Google LLC, a subsidiary of Alphabet, has filed notifications with the Russian Federal Security Service to comply with Russian encryption product import controls in order to import certain software in Russia',\n",
              "   'This information is included in the Quarterly Report on Form 10-Q for the quarter ended September 30, 2022.'],\n",
              "  'links': [{'title': 'other information', 'link': None}]}}"
            ]
          },
          "execution_count": 30,
          "metadata": {},
          "output_type": "execute_result"
        }
      ],
      "source": [
        "sections"
      ]
    }
  ],
  "metadata": {
    "colab": {
      "authorship_tag": "ABX9TyPE+agDlJ43wgmJLdIioswr",
      "include_colab_link": true,
      "provenance": []
    },
    "kernelspec": {
      "display_name": ".venv",
      "language": "python",
      "name": "python3"
    },
    "language_info": {
      "codemirror_mode": {
        "name": "ipython",
        "version": 3
      },
      "file_extension": ".py",
      "mimetype": "text/x-python",
      "name": "python",
      "nbconvert_exporter": "python",
      "pygments_lexer": "ipython3",
      "version": "3.12.3"
    }
  },
  "nbformat": 4,
  "nbformat_minor": 0
}
