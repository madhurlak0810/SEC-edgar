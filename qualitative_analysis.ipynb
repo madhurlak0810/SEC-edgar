{
<<<<<<< HEAD
  "nbformat": 4,
  "nbformat_minor": 0,
  "metadata": {
    "colab": {
      "provenance": [],
      "authorship_tag": "ABX9TyPE+agDlJ43wgmJLdIioswr",
      "include_colab_link": true
    },
    "kernelspec": {
      "name": "python3",
      "display_name": "Python 3"
    },
    "language_info": {
      "name": "python"
    }
  },
  "cells": [
    {
      "cell_type": "markdown",
      "metadata": {
        "id": "view-in-github",
        "colab_type": "text"
      },
      "source": [
        "<a href=\"https://colab.research.google.com/github/madhurlak0810/SEC-edgar/blob/test_inesh/Qualitative_Analysis.ipynb\" target=\"_parent\"><img src=\"https://colab.research.google.com/assets/colab-badge.svg\" alt=\"Open In Colab\"/></a>"
      ]
    },
    {
      "cell_type": "code",
      "execution_count": null,
      "metadata": {
        "id": "jpp7T7IPcMkG"
      },
      "outputs": [],
      "source": [
        "from pydantic import BaseModel\n",
        "from openai import OpenAI\n",
        "\n",
        "client = OpenAI()\n",
        "\n",
        "class ResearchPaperExtraction(BaseModel):\n",
        "    title: str\n",
        "    authors: list[str]\n",
        "    abstract: str\n",
        "    keywords: list[str]\n",
        "\n",
        "completion = client.beta.chat.completions.parse(\n",
        "    model=\"gpt-4o-2024-08-06\",\n",
        "    messages=[\n",
        "        # system: content: this part can be used to give strucutre for chatgpt to follow what it wants to extract\n",
        "        {\"role\": \"system\", \"content\": \"You are an expert at structured data extraction. You will be given unstructured text from a research paper and should convert it into the given structure.\"},\n",
        "        # user: content: this is where the text aka 10-k data will go\n",
        "        {\"role\": \"user\", \"content\": \"...\"}\n",
        "    ],\n",
        "    response_format=ResearchPaperExtraction,\n",
        ")\n",
        "\n",
        "research_paper = completion.choices[0].message.parsed"
      ]
    },
    {
      "cell_type": "code",
      "source": [
        "# Sample reponse:\n",
        "{\n",
        "  \"title\": \"Application of Quantum Algorithms in Interstellar Navigation: A New Frontier\",\n",
        "  \"authors\": [\n",
        "    \"Dr. Stella Voyager\",\n",
        "    \"Dr. Nova Star\",\n",
        "    \"Dr. Lyra Hunter\"\n",
        "  ],\n",
        "  \"abstract\": \"This paper investigates the utilization of quantum algorithms to improve interstellar navigation systems. By leveraging quantum superposition and entanglement, our proposed navigation system can calculate optimal travel paths through space-time anomalies more efficiently than classical methods. Experimental simulations suggest a significant reduction in travel time and fuel consumption for interstellar missions.\",\n",
        "  \"keywords\": [\n",
        "    \"Quantum algorithms\",\n",
        "    \"interstellar navigation\",\n",
        "    \"space-time anomalies\",\n",
        "    \"quantum superposition\",\n",
        "    \"quantum entanglement\",\n",
        "    \"space travel\"\n",
        "  ]\n",
        "}"
      ],
      "metadata": {
        "id": "C5e7eATidV1a"
      },
      "execution_count": 1,
      "outputs": []
    }
  ]
}
=======
 "cells": [
  {
   "cell_type": "code",
   "execution_count": null,
   "metadata": {},
   "outputs": [],
   "source": [
    "import copy\n",
    "from datetime import datetime\n",
    "import Levenshtein as Levenshtein\n",
    "from bs4 import BeautifulSoup, NavigableString\n",
    "from unidecode import unidecode\n",
    "import mongodb\n",
    "import string\n",
    "import re"
   ]
  },
  {
   "cell_type": "code",
   "execution_count": null,
   "metadata": {},
   "outputs": [],
   "source": []
  }
 ],
 "metadata": {
  "kernelspec": {
   "display_name": ".venv",
   "language": "python",
   "name": "python3"
  },
  "language_info": {
   "name": "python",
   "version": "3.12.3"
  }
 },
 "nbformat": 4,
 "nbformat_minor": 2
}
>>>>>>> 6a24301e820da28ae0b3cd14e5e06e06fcf2fd34
